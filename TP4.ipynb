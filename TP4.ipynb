{
  "nbformat": 4,
  "nbformat_minor": 0,
  "metadata": {
    "colab": {
      "name": "TP4.ipynb",
      "provenance": [],
      "collapsed_sections": [
        "rp0jSqZoFpr3",
        "N7nxhBFLkpe4",
        "swKOzSEtKy-g",
        "TOsqd9UyWPKV",
        "TukjF2BxKKcI"
      ]
    },
    "kernelspec": {
      "display_name": "Python 3",
      "name": "python3"
    },
    "language_info": {
      "name": "python"
    }
  },
  "cells": [
    {
      "cell_type": "markdown",
      "metadata": {
        "id": "KwThZBmnkV7T"
      },
      "source": [
        "https://www.aprendemachinelearning.com/clasificacion-de-imagenes-en-python/\n",
        "\n",
        "https://towardsdatascience.com/image-generation-in-10-minutes-with-generative-adversarial-networks-c2afc56bfa3b\n",
        "\n",
        "machine learning generate images based on text"
      ]
    },
    {
      "cell_type": "markdown",
      "metadata": {
        "id": "rp0jSqZoFpr3"
      },
      "source": [
        "## Importacion y dataframe"
      ]
    },
    {
      "cell_type": "markdown",
      "metadata": {
        "id": "N7nxhBFLkpe4"
      },
      "source": [
        "###Drive"
      ]
    },
    {
      "cell_type": "code",
      "metadata": {
        "id": "KZ0I2K90FoPh"
      },
      "source": [
        "import pandas as pd\n",
        "import numpy as np\n",
        "\n",
        "import matplotlib.ticker\n",
        "import matplotlib.pyplot as plt\n",
        "import seaborn as sns"
      ],
      "execution_count": 77,
      "outputs": []
    },
    {
      "cell_type": "code",
      "metadata": {
        "id": "M5cyDxR7tO1v"
      },
      "source": [
        "#procesar imagenes\n",
        "from tensorflow.keras.preprocessing.image import load_img\n",
        "from PIL import Image"
      ],
      "execution_count": 78,
      "outputs": []
    },
    {
      "cell_type": "code",
      "metadata": {
        "id": "q6ILj4BqhmNv",
        "colab": {
          "base_uri": "https://localhost:8080/"
        },
        "outputId": "aae30339-0300-46ac-e189-f4b72da8f4b6"
      },
      "source": [
        "from pydrive.auth import GoogleAuth\n",
        "from pydrive.drive import GoogleDrive\n",
        "from google.colab import auth, drive\n",
        "from oauth2client.client import GoogleCredentials\n",
        "\n",
        "drive.mount('/content/gdrive')\n",
        "\n",
        "auth.authenticate_user()\n",
        "gauth = GoogleAuth()\n",
        "gauth.credentials = GoogleCredentials.get_application_default()\n",
        "drive = GoogleDrive(gauth)\n"
      ],
      "execution_count": 79,
      "outputs": [
        {
          "output_type": "stream",
          "name": "stdout",
          "text": [
            "Drive already mounted at /content/gdrive; to attempt to forcibly remount, call drive.mount(\"/content/gdrive\", force_remount=True).\n"
          ]
        }
      ]
    },
    {
      "cell_type": "markdown",
      "metadata": {
        "id": "FRjMgn1PqFgq"
      },
      "source": [
        "https://towardsdatascience.com/how-to-successfully-add-large-data-sets-to-google-drive-130beb320f1a\n"
      ]
    },
    {
      "cell_type": "code",
      "metadata": {
        "id": "LvnJUrQrjxae"
      },
      "source": [
        "#@title zip y unzip\n",
        "# !unzip \"/content/gdrive/MyDrive/Organización de Datos/TPS/TP4/Datos/silkroad2_images.zip\" -d \"/content/gdrive/MyDrive/Organización de Datos/TPS/TP4/Datos\"\n",
        "\n",
        "#-d creates the directory and extracted files are stored there.\n",
        "\n",
        "\n",
        "\n",
        "# direccion = \"Organización de Datos/TPS/TP4/Datos/\"\n",
        "# !unzip (\"/content/gdrive/MyDrive/\"+direccion+\"/test 9 imagenes.zip\") -d (\"/content/gdrive/MyDrive/\"+direccion+\"/unziped\")\n",
        "#https://colab.research.google.com/github/sudo-ken/compress-decompress-in-Google-Drive/blob/master/Unrar_Unzip_Rar_Zip_in_GDrive.ipynb#scrollTo=VKdYIG49VaYA\n",
        "\n",
        "\n",
        "\n",
        "# from zipfile import ZipFile\n",
        "# with ZipFile(\"/content/gdrive/MyDrive/Organización de Datos/TPS/TP4/Datos/test 9 imagenes.zip\", \"r\") as archivo:\n",
        "#   archivo.extractall(\"/content/gdrive/MyDrive/Organización de Datos/TPS/TP4/Datos/unziped\")\n",
        "\n",
        "#https://www.kaggle.com/mchirico/how-to-read-datasets"
      ],
      "execution_count": 80,
      "outputs": []
    },
    {
      "cell_type": "code",
      "metadata": {
        "id": "Gr2TM8lcurvm"
      },
      "source": [
        "downloaded = drive.CreateFile({'id': '1FYEJ8QxvNzDF55EfE9gy_pMEmHftky4_'})\n",
        "downloaded.GetContentFile('silkroad_items.csv')\n",
        "\n",
        "items=pd.read_csv('silkroad_items.csv')"
      ],
      "execution_count": 81,
      "outputs": []
    },
    {
      "cell_type": "code",
      "metadata": {
        "id": "TIffLlpyYpOX"
      },
      "source": [
        "# modelos\n",
        "from sklearn import model_selection\n",
        "from sklearn.linear_model import LogisticRegression\n",
        "from sklearn.ensemble import RandomForestClassifier\n",
        "from xgboost import XGBClassifier\n",
        "\n",
        "# metricas\n",
        "from sklearn.metrics import classification_report, accuracy_score, confusion_matrix, roc_auc_score, mean_squared_error\n",
        "from sklearn.model_selection import cross_val_score\n",
        "\n",
        "from sklearn.model_selection import RandomizedSearchCV\n",
        "from sklearn.model_selection import GridSearchCV\n",
        "\n",
        "from sklearn.model_selection import RepeatedStratifiedKFold\n",
        "from sklearn.model_selection import KFold\n",
        "from sklearn.model_selection import train_test_split\n",
        "from scipy.stats import loguniform"
      ],
      "execution_count": 82,
      "outputs": []
    },
    {
      "cell_type": "code",
      "source": [
        "import tensorflow as tf\n",
        "from tensorflow.keras.layers import (Dense, \n",
        "                                     BatchNormalization, \n",
        "                                     LeakyReLU, \n",
        "                                     Reshape, \n",
        "                                     Conv2DTranspose,\n",
        "                                     Conv2D,\n",
        "                                     Dropout,\n",
        "                                     Flatten)"
      ],
      "metadata": {
        "id": "dOuheEkqdYbT"
      },
      "execution_count": 83,
      "outputs": []
    },
    {
      "cell_type": "code",
      "metadata": {
        "id": "KoGL5m0brE3F"
      },
      "source": [
        "# kaggle_tests = pd.merge(test_identity, test_transaction, left_on='TransactionID', right_on='TransactionID', how='outer')"
      ],
      "execution_count": 84,
      "outputs": []
    },
    {
      "cell_type": "markdown",
      "metadata": {
        "id": "IVXaVWcbXeSn"
      },
      "source": [
        "###Dataframe"
      ]
    },
    {
      "cell_type": "markdown",
      "source": [
        ""
      ],
      "metadata": {
        "id": "LeuCZEAxXUmc"
      }
    },
    {
      "cell_type": "code",
      "metadata": {
        "id": "SudXON4itviy"
      },
      "source": [
        "direccion_imagenes = \"/content/gdrive/MyDrive/Organización de Datos/TPS/TP4/Datos/unziped/images_by_id/\""
      ],
      "execution_count": 85,
      "outputs": []
    },
    {
      "cell_type": "code",
      "metadata": {
        "id": "Rgeg2MLEg41Z"
      },
      "source": [
        "with Image.open(direccion_imagenes+'/108.jpg') as im:\n",
        "    im.rotate(45).show()"
      ],
      "execution_count": 86,
      "outputs": []
    },
    {
      "cell_type": "code",
      "metadata": {
        "colab": {
          "base_uri": "https://localhost:8080/",
          "height": 152
        },
        "id": "pquj_nxup8Z7",
        "outputId": "4d8fb0dc-333b-479a-b29d-516755f7e2ce"
      },
      "source": [
        "img = load_img(direccion_imagenes+'/108.jpg')\n",
        "img\n",
        "\n",
        "#imagenes de 180x135\n",
        "# https://gianmarco.com.ar/blog/es/blog/silkroad2"
      ],
      "execution_count": 87,
      "outputs": [
        {
          "output_type": "execute_result",
          "data": {
            "image/png": "[encoded data removed]",
            "text/plain": [
              "<PIL.JpegImagePlugin.JpegImageFile image mode=RGB size=180x135 at 0x7FDD82C81610>"
            ]
          },
          "metadata": {},
          "execution_count": 87
        }
      ]
    },
    {
      "cell_type": "markdown",
      "metadata": {
        "id": "c-ohPyJqtvub"
      },
      "source": [
        "####de numpy a imagen y viseversa"
      ]
    },
    {
      "cell_type": "markdown",
      "metadata": {
        "id": "rfH87U7FhI-K"
      },
      "source": [
        "https://stackoverflow.com/questions/384759/how-to-convert-a-pil-image-into-a-numpy-array"
      ]
    },
    {
      "cell_type": "code",
      "metadata": {
        "id": "X77q0zpThhTg"
      },
      "source": [
        "def pilToNumpy(img):\n",
        "    return np.array(img)   # im2arr.shape: height x width x channel\n",
        "\n",
        "def NumpyToPil(img):\n",
        "    return Image.fromarray(img)"
      ],
      "execution_count": 88,
      "outputs": []
    },
    {
      "cell_type": "code",
      "metadata": {
        "id": "RSYr2a3PjGX6"
      },
      "source": [
        "im = Image.open(direccion_imagenes+'/108.jpg')\n",
        "pilToNumpy(im)"
      ],
      "execution_count": null,
      "outputs": []
    },
    {
      "cell_type": "code",
      "source": [
        "len(pilToNumpy(im))"
      ],
      "metadata": {
        "colab": {
          "base_uri": "https://localhost:8080/"
        },
        "id": "EpyjHn_AeH5o",
        "outputId": "13bdea04-b703-4a25-e030-d44f923099bd"
      },
      "execution_count": 90,
      "outputs": [
        {
          "output_type": "execute_result",
          "data": {
            "text/plain": [
              "135"
            ]
          },
          "metadata": {},
          "execution_count": 90
        }
      ]
    },
    {
      "cell_type": "markdown",
      "metadata": {
        "id": "swKOzSEtKy-g"
      },
      "source": [
        "##analisis exploratorio"
      ]
    },
    {
      "cell_type": "markdown",
      "source": [
        "https://gianmarco.com.ar/blog/es/blog/silkroad2"
      ],
      "metadata": {
        "id": "u5oms587ed4P"
      }
    },
    {
      "cell_type": "code",
      "source": [
        "#solo conservar items que tengan una imagen asociada\n",
        "items = items[items['image_id'].notnull()]"
      ],
      "metadata": {
        "id": "eL9rfQHanyXW"
      },
      "execution_count": 91,
      "outputs": []
    },
    {
      "cell_type": "code",
      "metadata": {
        "id": "7rtlUxUE1w-r",
        "colab": {
          "base_uri": "https://localhost:8080/",
          "height": 362
        },
        "outputId": "2a121613-4ddd-4627-acfa-50a8e2b6adb5"
      },
      "source": [
        "items.head()"
      ],
      "execution_count": 92,
      "outputs": [
        {
          "output_type": "execute_result",
          "data": {
            "text/html": [
              "<div>\n",
              "<style scoped>\n",
              "    .dataframe tbody tr th:only-of-type {\n",
              "        vertical-align: middle;\n",
              "    }\n",
              "\n",
              "    .dataframe tbody tr th {\n",
              "        vertical-align: top;\n",
              "    }\n",
              "\n",
              "    .dataframe thead th {\n",
              "        text-align: right;\n",
              "    }\n",
              "</style>\n",
              "<table border=\"1\" class=\"dataframe\">\n",
              "  <thead>\n",
              "    <tr style=\"text-align: right;\">\n",
              "      <th></th>\n",
              "      <th>item_id</th>\n",
              "      <th>title</th>\n",
              "      <th>description</th>\n",
              "      <th>vendor</th>\n",
              "      <th>price</th>\n",
              "      <th>category</th>\n",
              "      <th>timestamp</th>\n",
              "      <th>ships_from</th>\n",
              "      <th>ships_to</th>\n",
              "      <th>image_id</th>\n",
              "      <th>original_path</th>\n",
              "    </tr>\n",
              "  </thead>\n",
              "  <tbody>\n",
              "    <tr>\n",
              "      <th>1</th>\n",
              "      <td>the-morality-of-capitalism</td>\n",
              "      <td>The Morality of Capitalism</td>\n",
              "      <td>\\n    This book has been made available to the...</td>\n",
              "      <td>echo</td>\n",
              "      <td>0.003443</td>\n",
              "      <td>Alcohol</td>\n",
              "      <td>2014-02-23T05:39:29</td>\n",
              "      <td>Undeclared</td>\n",
              "      <td>Undeclared</td>\n",
              "      <td>343.0</td>\n",
              "      <td>2014-02-24/items/the-morality-of-capitalism</td>\n",
              "    </tr>\n",
              "    <tr>\n",
              "      <th>2</th>\n",
              "      <td>survive</td>\n",
              "      <td>Survive!</td>\n",
              "      <td>\\n    Since the dawn of time, when man first p...</td>\n",
              "      <td>echo</td>\n",
              "      <td>0.001722</td>\n",
              "      <td>Alcohol</td>\n",
              "      <td>2014-02-23T05:39:33</td>\n",
              "      <td>Undeclared</td>\n",
              "      <td>Undeclared</td>\n",
              "      <td>334.0</td>\n",
              "      <td>2014-02-24/items/survive</td>\n",
              "    </tr>\n",
              "    <tr>\n",
              "      <th>3</th>\n",
              "      <td>a-non-religious-new-testament</td>\n",
              "      <td>A Non-Religious New Testament</td>\n",
              "      <td>\\n    This is essentially the Bible written in...</td>\n",
              "      <td>echo</td>\n",
              "      <td>0.015496</td>\n",
              "      <td>Alcohol</td>\n",
              "      <td>2014-02-23T05:39:37</td>\n",
              "      <td>Undeclared</td>\n",
              "      <td>Undeclared</td>\n",
              "      <td>352.0</td>\n",
              "      <td>2014-02-24/items/a-non-religious-new-testament</td>\n",
              "    </tr>\n",
              "    <tr>\n",
              "      <th>4</th>\n",
              "      <td>mindless-slogans-101-cheap-substitutes-for-act...</td>\n",
              "      <td>Mindless Slogans: 101 Cheap Substitutes for Ac...</td>\n",
              "      <td>\\n    Think of all the stupid stuff you overhe...</td>\n",
              "      <td>echo</td>\n",
              "      <td>0.001722</td>\n",
              "      <td>Alcohol</td>\n",
              "      <td>2014-02-23T05:39:41</td>\n",
              "      <td>Undeclared</td>\n",
              "      <td>Undeclared</td>\n",
              "      <td>337.0</td>\n",
              "      <td>2014-02-24/items/mindless-slogans-101-cheap-su...</td>\n",
              "    </tr>\n",
              "    <tr>\n",
              "      <th>6</th>\n",
              "      <td>god-wants-you-dead</td>\n",
              "      <td>God Wants You Dead</td>\n",
              "      <td>\\n    FANTASTIC book for social and cultural d...</td>\n",
              "      <td>echo</td>\n",
              "      <td>0.001722</td>\n",
              "      <td>Drugs</td>\n",
              "      <td>2014-02-23T05:39:48</td>\n",
              "      <td>Undeclared</td>\n",
              "      <td>Undeclared</td>\n",
              "      <td>293.0</td>\n",
              "      <td>2014-02-24/items/god-wants-you-dead</td>\n",
              "    </tr>\n",
              "  </tbody>\n",
              "</table>\n",
              "</div>"
            ],
            "text/plain": [
              "                                             item_id  ...                                      original_path\n",
              "1                         the-morality-of-capitalism  ...        2014-02-24/items/the-morality-of-capitalism\n",
              "2                                            survive  ...                           2014-02-24/items/survive\n",
              "3                      a-non-religious-new-testament  ...     2014-02-24/items/a-non-religious-new-testament\n",
              "4  mindless-slogans-101-cheap-substitutes-for-act...  ...  2014-02-24/items/mindless-slogans-101-cheap-su...\n",
              "6                                 god-wants-you-dead  ...                2014-02-24/items/god-wants-you-dead\n",
              "\n",
              "[5 rows x 11 columns]"
            ]
          },
          "metadata": {},
          "execution_count": 92
        }
      ]
    },
    {
      "cell_type": "markdown",
      "source": [
        "####Primer idea. En base a descripciones generar una imagen"
      ],
      "metadata": {
        "id": "TOsqd9UyWPKV"
      }
    },
    {
      "cell_type": "code",
      "source": [
        "items[items[\"description\"].str.contains(\"book\", na=False, case=False)].head(3)"
      ],
      "metadata": {
        "id": "No9DSBSxWMrr"
      },
      "execution_count": null,
      "outputs": []
    },
    {
      "cell_type": "markdown",
      "source": [
        "hay muchos articulos que en realidad son libros pero que tienen la categoría de alcohol. por lo tanto conviene no usar la categoría para generar las imagenes. \n",
        "* en la explicación del dataset dice que solo se pudo obtener la primer categoría del item, pero no la subcategoría más específica"
      ],
      "metadata": {
        "id": "6HZiQ00IPD1Q"
      }
    },
    {
      "cell_type": "markdown",
      "source": [
        "como las categorias son una porquería trato de filtar los datos para generar imagenes de drogas unicamente"
      ],
      "metadata": {
        "id": "-FPIWQubsG-f"
      }
    },
    {
      "cell_type": "code",
      "source": [
        "items[(items[\"category\"]==\"Drugs\") & (items[\"description\"].str.contains(\"book\", na=False, case=False) == False)].head()"
      ],
      "metadata": {
        "colab": {
          "base_uri": "https://localhost:8080/",
          "height": 397
        },
        "id": "vkXFkZeJr3S1",
        "outputId": "88f8b16c-b0d7-4481-a4fc-5c6f81ef702a"
      },
      "execution_count": 93,
      "outputs": [
        {
          "output_type": "execute_result",
          "data": {
            "text/html": [
              "<div>\n",
              "<style scoped>\n",
              "    .dataframe tbody tr th:only-of-type {\n",
              "        vertical-align: middle;\n",
              "    }\n",
              "\n",
              "    .dataframe tbody tr th {\n",
              "        vertical-align: top;\n",
              "    }\n",
              "\n",
              "    .dataframe thead th {\n",
              "        text-align: right;\n",
              "    }\n",
              "</style>\n",
              "<table border=\"1\" class=\"dataframe\">\n",
              "  <thead>\n",
              "    <tr style=\"text-align: right;\">\n",
              "      <th></th>\n",
              "      <th>item_id</th>\n",
              "      <th>title</th>\n",
              "      <th>description</th>\n",
              "      <th>vendor</th>\n",
              "      <th>price</th>\n",
              "      <th>category</th>\n",
              "      <th>timestamp</th>\n",
              "      <th>ships_from</th>\n",
              "      <th>ships_to</th>\n",
              "      <th>image_id</th>\n",
              "      <th>original_path</th>\n",
              "    </tr>\n",
              "  </thead>\n",
              "  <tbody>\n",
              "    <tr>\n",
              "      <th>301</th>\n",
              "      <td>bulk-research-chemicals</td>\n",
              "      <td>BULK RESEARCH CHEMICALS</td>\n",
              "      <td>\\n    Read my vendor profile and contact me to...</td>\n",
              "      <td>TheScienceGuy</td>\n",
              "      <td>0.000000</td>\n",
              "      <td>Drugs</td>\n",
              "      <td>2014-02-23T08:37:40</td>\n",
              "      <td>China</td>\n",
              "      <td>Worldwide</td>\n",
              "      <td>2451.0</td>\n",
              "      <td>2014-02-24/items/bulk-research-chemicals</td>\n",
              "    </tr>\n",
              "    <tr>\n",
              "      <th>302</th>\n",
              "      <td>custom-listing-for-mc</td>\n",
              "      <td>Custom Listing for MC</td>\n",
              "      <td>\\n    25g 2c-t-2 and 50g methylone for $750 (n...</td>\n",
              "      <td>TheScienceGuy</td>\n",
              "      <td>1.277828</td>\n",
              "      <td>Drugs</td>\n",
              "      <td>2014-02-23T08:37:43</td>\n",
              "      <td>China</td>\n",
              "      <td>Worldwide</td>\n",
              "      <td>3242.0</td>\n",
              "      <td>2014-02-24/items/custom-listing-for-mc</td>\n",
              "    </tr>\n",
              "    <tr>\n",
              "      <th>366</th>\n",
              "      <td>do-you-have-bitcoins-to-sell</td>\n",
              "      <td>Do you have BITCOINS to SELL?</td>\n",
              "      <td>\\n    I will buy your bitcoins, CASH!\\nIf you ...</td>\n",
              "      <td>BTCpal</td>\n",
              "      <td>0.000000</td>\n",
              "      <td>Drugs</td>\n",
              "      <td>2014-02-23T10:00:29</td>\n",
              "      <td>Undeclared</td>\n",
              "      <td>Undeclared</td>\n",
              "      <td>3392.0</td>\n",
              "      <td>2014-02-24/items/do-you-have-bitcoins-to-sell</td>\n",
              "    </tr>\n",
              "    <tr>\n",
              "      <th>991</th>\n",
              "      <td>50-grams-of-ketamine</td>\n",
              "      <td>50 grams of Ketamine</td>\n",
              "      <td>\\n    50 grams of my fine 98%+ pure Indian sha...</td>\n",
              "      <td>haydenp</td>\n",
              "      <td>3.005410</td>\n",
              "      <td>Drugs</td>\n",
              "      <td>2014-02-23T14:44:24</td>\n",
              "      <td>United States</td>\n",
              "      <td>United States</td>\n",
              "      <td>3918.0</td>\n",
              "      <td>2014-02-24/items/50-grams-of-ketamine</td>\n",
              "    </tr>\n",
              "    <tr>\n",
              "      <th>992</th>\n",
              "      <td>one-ounce-28-3-grams-of-ketamine-haydenp</td>\n",
              "      <td>One ounce (28.3 grams) of Ketamine</td>\n",
              "      <td>\\n    28.3 grams of my fine 98%+ pure Indian s...</td>\n",
              "      <td>haydenp</td>\n",
              "      <td>1.786721</td>\n",
              "      <td>Drugs</td>\n",
              "      <td>2014-02-23T14:44:40</td>\n",
              "      <td>United States</td>\n",
              "      <td>United States</td>\n",
              "      <td>3917.0</td>\n",
              "      <td>2014-02-24/items/one-ounce-28-3-grams-of-ketam...</td>\n",
              "    </tr>\n",
              "  </tbody>\n",
              "</table>\n",
              "</div>"
            ],
            "text/plain": [
              "                                      item_id  ...                                      original_path\n",
              "301                   bulk-research-chemicals  ...           2014-02-24/items/bulk-research-chemicals\n",
              "302                     custom-listing-for-mc  ...             2014-02-24/items/custom-listing-for-mc\n",
              "366              do-you-have-bitcoins-to-sell  ...      2014-02-24/items/do-you-have-bitcoins-to-sell\n",
              "991                      50-grams-of-ketamine  ...              2014-02-24/items/50-grams-of-ketamine\n",
              "992  one-ounce-28-3-grams-of-ketamine-haydenp  ...  2014-02-24/items/one-ounce-28-3-grams-of-ketam...\n",
              "\n",
              "[5 rows x 11 columns]"
            ]
          },
          "metadata": {},
          "execution_count": 93
        }
      ]
    },
    {
      "cell_type": "markdown",
      "source": [
        "aún asi es dificl de comparar con la imagen"
      ],
      "metadata": {
        "id": "iiOU7ReFu5FM"
      }
    },
    {
      "cell_type": "code",
      "source": [
        "with pd.option_context('display.max_colwidth', None):\n",
        "  display(items[(items[\"category\"]==\"Drugs\") & (items[\"description\"].str.contains(\"book\", na=False, case=False) == False)][[\"description\", \"image_id\"]].iloc[115:116,:])"
      ],
      "metadata": {
        "colab": {
          "base_uri": "https://localhost:8080/",
          "height": 98
        },
        "id": "rrPCFg6Fk6pF",
        "outputId": "a1f0b8f5-0eb7-443c-8321-4829d924fbc7"
      },
      "execution_count": 94,
      "outputs": [
        {
          "output_type": "display_data",
          "data": {
            "text/html": [
              "<div>\n",
              "<style scoped>\n",
              "    .dataframe tbody tr th:only-of-type {\n",
              "        vertical-align: middle;\n",
              "    }\n",
              "\n",
              "    .dataframe tbody tr th {\n",
              "        vertical-align: top;\n",
              "    }\n",
              "\n",
              "    .dataframe thead th {\n",
              "        text-align: right;\n",
              "    }\n",
              "</style>\n",
              "<table border=\"1\" class=\"dataframe\">\n",
              "  <thead>\n",
              "    <tr style=\"text-align: right;\">\n",
              "      <th></th>\n",
              "      <th>description</th>\n",
              "      <th>image_id</th>\n",
              "    </tr>\n",
              "  </thead>\n",
              "  <tbody>\n",
              "    <tr>\n",
              "      <th>7521</th>\n",
              "      <td>\\n    1 tablet of 10MG METHADONE (Methadone Hydrochloride) manufactured by Roxane Laboratories, Inc.\\n\\nMinimum $50 USD per shipment, you may order as many different items you like from my shop. Please select and pay for a shipment option, then select ADD TO OTHER SHIPMENT on the rest.\\n</td>\n",
              "      <td>6715.0</td>\n",
              "    </tr>\n",
              "  </tbody>\n",
              "</table>\n",
              "</div>"
            ],
            "text/plain": [
              "                                                                                                                                                                                                                                                                                             description  image_id\n",
              "7521  \\n    1 tablet of 10MG METHADONE (Methadone Hydrochloride) manufactured by Roxane Laboratories, Inc.\\n\\nMinimum $50 USD per shipment, you may order as many different items you like from my shop. Please select and pay for a shipment option, then select ADD TO OTHER SHIPMENT on the rest.\\n      6715.0"
            ]
          },
          "metadata": {}
        }
      ]
    },
    {
      "cell_type": "markdown",
      "source": [
        "####Segunda idea. A partir de una sola palabra"
      ],
      "metadata": {
        "id": "_yjYcc4XWVhE"
      }
    },
    {
      "cell_type": "code",
      "source": [
        "#en base al titulo\n",
        "items[(len(items[\"title\"]) == 1)].iloc[30:50,:]"
      ],
      "metadata": {
        "id": "KwvxhxCeWZa0"
      },
      "execution_count": null,
      "outputs": []
    },
    {
      "cell_type": "code",
      "source": [
        "#en base a la categoría\n",
        "items[(len(items[\"title\"]) == 1)].iloc[30:50,:]"
      ],
      "metadata": {
        "id": "E7o36QIEW48A"
      },
      "execution_count": null,
      "outputs": []
    },
    {
      "cell_type": "markdown",
      "metadata": {
        "id": "T-GjL1MCr_Vl"
      },
      "source": [
        "###cuantas categorías hay?"
      ]
    },
    {
      "cell_type": "code",
      "metadata": {
        "colab": {
          "base_uri": "https://localhost:8080/",
          "height": 81
        },
        "id": "n2pNJxbst8JO",
        "outputId": "b21c75fe-81cf-456f-8d18-aa34a5bf4f98"
      },
      "source": [
        "items.nunique().to_frame().T\n",
        "# https://www.geeksforgeeks.org/how-to-count-distinct-values-of-a-pandas-dataframe-column/\n",
        "\n",
        "# df.select_dtypes(exclude = ['number'])"
      ],
      "execution_count": 95,
      "outputs": [
        {
          "output_type": "execute_result",
          "data": {
            "text/html": [
              "<div>\n",
              "<style scoped>\n",
              "    .dataframe tbody tr th:only-of-type {\n",
              "        vertical-align: middle;\n",
              "    }\n",
              "\n",
              "    .dataframe tbody tr th {\n",
              "        vertical-align: top;\n",
              "    }\n",
              "\n",
              "    .dataframe thead th {\n",
              "        text-align: right;\n",
              "    }\n",
              "</style>\n",
              "<table border=\"1\" class=\"dataframe\">\n",
              "  <thead>\n",
              "    <tr style=\"text-align: right;\">\n",
              "      <th></th>\n",
              "      <th>item_id</th>\n",
              "      <th>title</th>\n",
              "      <th>description</th>\n",
              "      <th>vendor</th>\n",
              "      <th>price</th>\n",
              "      <th>category</th>\n",
              "      <th>timestamp</th>\n",
              "      <th>ships_from</th>\n",
              "      <th>ships_to</th>\n",
              "      <th>image_id</th>\n",
              "      <th>original_path</th>\n",
              "    </tr>\n",
              "  </thead>\n",
              "  <tbody>\n",
              "    <tr>\n",
              "      <th>0</th>\n",
              "      <td>32379</td>\n",
              "      <td>30263</td>\n",
              "      <td>33802</td>\n",
              "      <td>1281</td>\n",
              "      <td>237817</td>\n",
              "      <td>301</td>\n",
              "      <td>242864</td>\n",
              "      <td>59</td>\n",
              "      <td>28</td>\n",
              "      <td>32539</td>\n",
              "      <td>367673</td>\n",
              "    </tr>\n",
              "  </tbody>\n",
              "</table>\n",
              "</div>"
            ],
            "text/plain": [
              "   item_id  title  description  ...  ships_to  image_id  original_path\n",
              "0    32379  30263        33802  ...        28     32539         367673\n",
              "\n",
              "[1 rows x 11 columns]"
            ]
          },
          "metadata": {},
          "execution_count": 95
        }
      ]
    },
    {
      "cell_type": "code",
      "metadata": {
        "colab": {
          "base_uri": "https://localhost:8080/",
          "height": 165
        },
        "id": "FJtJoCOe7HS6",
        "outputId": "3a744b41-eb22-48e6-b969-7e78676ceec5"
      },
      "source": [
        "#cantidad de cada categoría\n",
        "items[\"category\"].value_counts().to_frame().T"
      ],
      "execution_count": 96,
      "outputs": [
        {
          "output_type": "execute_result",
          "data": {
            "text/html": [
              "<div>\n",
              "<style scoped>\n",
              "    .dataframe tbody tr th:only-of-type {\n",
              "        vertical-align: middle;\n",
              "    }\n",
              "\n",
              "    .dataframe tbody tr th {\n",
              "        vertical-align: top;\n",
              "    }\n",
              "\n",
              "    .dataframe thead th {\n",
              "        text-align: right;\n",
              "    }\n",
              "</style>\n",
              "<table border=\"1\" class=\"dataframe\">\n",
              "  <thead>\n",
              "    <tr style=\"text-align: right;\">\n",
              "      <th></th>\n",
              "      <th>Alcohol</th>\n",
              "      <th>Stimulants</th>\n",
              "      <th>Weed</th>\n",
              "      <th>Ecstasy</th>\n",
              "      <th>MDMA</th>\n",
              "      <th>Cannabis</th>\n",
              "      <th>Cocaine</th>\n",
              "      <th>LSD</th>\n",
              "      <th>Speed</th>\n",
              "      <th>Drug paraphernalia</th>\n",
              "      <th>Steroids/PEDs</th>\n",
              "      <th>Other</th>\n",
              "      <th>Analgesics</th>\n",
              "      <th>Anabolic Steroids</th>\n",
              "      <th>NBOMe</th>\n",
              "      <th>Benzos</th>\n",
              "      <th>Heroin</th>\n",
              "      <th>Alprazolam</th>\n",
              "      <th>Dissociatives</th>\n",
              "      <th>Drugs</th>\n",
              "      <th>Concentrates</th>\n",
              "      <th>Forgeries</th>\n",
              "      <th>2C-Family</th>\n",
              "      <th>Diazepam</th>\n",
              "      <th>DMT</th>\n",
              "      <th>Oxycodone</th>\n",
              "      <th>Opioids</th>\n",
              "      <th>Digital goods</th>\n",
              "      <th>Sildenafil Citrate</th>\n",
              "      <th>Prescription</th>\n",
              "      <th>Edibles</th>\n",
              "      <th>Shrooms</th>\n",
              "      <th>Books</th>\n",
              "      <th>Apparel</th>\n",
              "      <th>Psychedelics</th>\n",
              "      <th>Chemicals</th>\n",
              "      <th>Relaxants</th>\n",
              "      <th>Pills</th>\n",
              "      <th>Methylphenidate</th>\n",
              "      <th>Tadalafil</th>\n",
              "      <th>...</th>\n",
              "      <th>Herbs &amp; Supplements</th>\n",
              "      <th>25N-NBOMe</th>\n",
              "      <th>Budder</th>\n",
              "      <th>Freebase</th>\n",
              "      <th>LSZ</th>\n",
              "      <th>Herbal Viagra</th>\n",
              "      <th>Mesterolone</th>\n",
              "      <th>Prozac</th>\n",
              "      <th>Suboxone</th>\n",
              "      <th>2-DPMP</th>\n",
              "      <th>Azurescens</th>\n",
              "      <th>Cyanescens</th>\n",
              "      <th>DPT</th>\n",
              "      <th>Liberty Caps</th>\n",
              "      <th>Supplements</th>\n",
              "      <th>Stendra</th>\n",
              "      <th>2C-B-FLY</th>\n",
              "      <th>Strattera</th>\n",
              "      <th>Clones</th>\n",
              "      <th>Snovitra</th>\n",
              "      <th>Dioscorea</th>\n",
              "      <th>Superdrol</th>\n",
              "      <th>Co-codamol</th>\n",
              "      <th>4-HO-MPT</th>\n",
              "      <th>5-MeO-DipT</th>\n",
              "      <th>Tilidine</th>\n",
              "      <th>Pethidine</th>\n",
              "      <th>Anti-inflammatory</th>\n",
              "      <th>Topicals</th>\n",
              "      <th>Aleph-2</th>\n",
              "      <th>Anti-rheumatic</th>\n",
              "      <th>4-ACO-MIPT</th>\n",
              "      <th>Cultures</th>\n",
              "      <th>AMT</th>\n",
              "      <th>Opana</th>\n",
              "      <th>MET</th>\n",
              "      <th>4-HO-MET</th>\n",
              "      <th>Peyote</th>\n",
              "      <th>2C-D</th>\n",
              "      <th>2C-T-4</th>\n",
              "    </tr>\n",
              "  </thead>\n",
              "  <tbody>\n",
              "    <tr>\n",
              "      <th>category</th>\n",
              "      <td>71133</td>\n",
              "      <td>24372</td>\n",
              "      <td>19587</td>\n",
              "      <td>17947</td>\n",
              "      <td>16013</td>\n",
              "      <td>14496</td>\n",
              "      <td>13036</td>\n",
              "      <td>10776</td>\n",
              "      <td>8622</td>\n",
              "      <td>7776</td>\n",
              "      <td>7428</td>\n",
              "      <td>6676</td>\n",
              "      <td>6239</td>\n",
              "      <td>5933</td>\n",
              "      <td>5911</td>\n",
              "      <td>5655</td>\n",
              "      <td>5273</td>\n",
              "      <td>5265</td>\n",
              "      <td>4850</td>\n",
              "      <td>4791</td>\n",
              "      <td>4413</td>\n",
              "      <td>4059</td>\n",
              "      <td>3856</td>\n",
              "      <td>3626</td>\n",
              "      <td>3539</td>\n",
              "      <td>3402</td>\n",
              "      <td>3267</td>\n",
              "      <td>3257</td>\n",
              "      <td>3256</td>\n",
              "      <td>3254</td>\n",
              "      <td>3110</td>\n",
              "      <td>2863</td>\n",
              "      <td>2840</td>\n",
              "      <td>2474</td>\n",
              "      <td>2411</td>\n",
              "      <td>2214</td>\n",
              "      <td>1752</td>\n",
              "      <td>1748</td>\n",
              "      <td>1641</td>\n",
              "      <td>1462</td>\n",
              "      <td>...</td>\n",
              "      <td>7</td>\n",
              "      <td>7</td>\n",
              "      <td>7</td>\n",
              "      <td>7</td>\n",
              "      <td>7</td>\n",
              "      <td>7</td>\n",
              "      <td>6</td>\n",
              "      <td>6</td>\n",
              "      <td>6</td>\n",
              "      <td>5</td>\n",
              "      <td>5</td>\n",
              "      <td>5</td>\n",
              "      <td>5</td>\n",
              "      <td>5</td>\n",
              "      <td>4</td>\n",
              "      <td>4</td>\n",
              "      <td>4</td>\n",
              "      <td>4</td>\n",
              "      <td>4</td>\n",
              "      <td>4</td>\n",
              "      <td>4</td>\n",
              "      <td>4</td>\n",
              "      <td>3</td>\n",
              "      <td>3</td>\n",
              "      <td>3</td>\n",
              "      <td>3</td>\n",
              "      <td>3</td>\n",
              "      <td>3</td>\n",
              "      <td>3</td>\n",
              "      <td>3</td>\n",
              "      <td>3</td>\n",
              "      <td>3</td>\n",
              "      <td>2</td>\n",
              "      <td>2</td>\n",
              "      <td>2</td>\n",
              "      <td>1</td>\n",
              "      <td>1</td>\n",
              "      <td>1</td>\n",
              "      <td>1</td>\n",
              "      <td>1</td>\n",
              "    </tr>\n",
              "  </tbody>\n",
              "</table>\n",
              "<p>1 rows × 301 columns</p>\n",
              "</div>"
            ],
            "text/plain": [
              "          Alcohol  Stimulants   Weed  Ecstasy  ...  4-HO-MET  Peyote  2C-D  2C-T-4\n",
              "category    71133       24372  19587    17947  ...         1       1     1       1\n",
              "\n",
              "[1 rows x 301 columns]"
            ]
          },
          "metadata": {},
          "execution_count": 96
        }
      ]
    },
    {
      "cell_type": "markdown",
      "source": [
        "####cosas interesantes/divertidas del dataset"
      ],
      "metadata": {
        "id": "Ybi_UyitWC3M"
      }
    },
    {
      "cell_type": "code",
      "source": [
        "items[items[\"ships_to\"]==\"Argentina\"]"
      ],
      "metadata": {
        "colab": {
          "base_uri": "https://localhost:8080/",
          "height": 81
        },
        "id": "Pri_whJgPi5r",
        "outputId": "28c4b3dd-6077-4095-a792-01ab76870510"
      },
      "execution_count": 97,
      "outputs": [
        {
          "output_type": "execute_result",
          "data": {
            "text/html": [
              "<div>\n",
              "<style scoped>\n",
              "    .dataframe tbody tr th:only-of-type {\n",
              "        vertical-align: middle;\n",
              "    }\n",
              "\n",
              "    .dataframe tbody tr th {\n",
              "        vertical-align: top;\n",
              "    }\n",
              "\n",
              "    .dataframe thead th {\n",
              "        text-align: right;\n",
              "    }\n",
              "</style>\n",
              "<table border=\"1\" class=\"dataframe\">\n",
              "  <thead>\n",
              "    <tr style=\"text-align: right;\">\n",
              "      <th></th>\n",
              "      <th>item_id</th>\n",
              "      <th>title</th>\n",
              "      <th>description</th>\n",
              "      <th>vendor</th>\n",
              "      <th>price</th>\n",
              "      <th>category</th>\n",
              "      <th>timestamp</th>\n",
              "      <th>ships_from</th>\n",
              "      <th>ships_to</th>\n",
              "      <th>image_id</th>\n",
              "      <th>original_path</th>\n",
              "    </tr>\n",
              "  </thead>\n",
              "  <tbody>\n",
              "    <tr>\n",
              "      <th>242354</th>\n",
              "      <td>modem</td>\n",
              "      <td>modem</td>\n",
              "      <td>\\n    get em here\\n</td>\n",
              "      <td>pentest002</td>\n",
              "      <td>0.105</td>\n",
              "      <td>Alcohol</td>\n",
              "      <td>2014-09-15T03:40:32</td>\n",
              "      <td>Austria</td>\n",
              "      <td>Argentina</td>\n",
              "      <td>48451.0</td>\n",
              "      <td>2014-09-15/items/modem</td>\n",
              "    </tr>\n",
              "  </tbody>\n",
              "</table>\n",
              "</div>"
            ],
            "text/plain": [
              "       item_id  title  ... image_id           original_path\n",
              "242354   modem  modem  ...  48451.0  2014-09-15/items/modem\n",
              "\n",
              "[1 rows x 11 columns]"
            ]
          },
          "metadata": {},
          "execution_count": 97
        }
      ]
    },
    {
      "cell_type": "markdown",
      "metadata": {
        "id": "TukjF2BxKKcI"
      },
      "source": [
        "###encondings"
      ]
    },
    {
      "cell_type": "markdown",
      "metadata": {
        "id": "zI8icWXiKIAJ"
      },
      "source": [
        "####MeanEncoding\n",
        "\n",
        "hecho como $\\frac{Fraude}{(Fraude+NoFraude)}$\n",
        "\n",
        "https://www.geeksforgeeks.org/mean-encoding-machine-learning/\n"
      ]
    },
    {
      "cell_type": "code",
      "metadata": {
        "id": "Zu5EUpqiKIpr"
      },
      "source": [
        "#no modifica el df original\n",
        "\n",
        "def meanEncoding(dataframe, nombreColumnas):\n",
        "  temp = dataframe\n",
        "  for i in nombreColumnas:\n",
        "    Mean_encoded_subject = dataframe.groupby(i)['isFraud'].mean().to_dict()\n",
        "    temp[i] =  dataframe[i].map(Mean_encoded_subject)\n",
        "  return temp\n",
        "\n",
        "#ejemplo -> df.groupby(['ProductCD'])['isFraud'].mean()"
      ],
      "execution_count": 98,
      "outputs": []
    },
    {
      "cell_type": "markdown",
      "metadata": {
        "id": "BLcy-ZGt4uu5"
      },
      "source": [
        "####OneHotEncoding"
      ]
    },
    {
      "cell_type": "markdown",
      "metadata": {
        "id": "V8Y38tY48Jtf"
      },
      "source": [
        "https://stackoverflow.com/questions/37292872/how-can-i-one-hot-encode-in-python"
      ]
    },
    {
      "cell_type": "code",
      "metadata": {
        "id": "9_e70Qcu4uiz"
      },
      "source": [
        "#no modifica el df original\n",
        "\n",
        "def oneHotEncoding(df_original, columna):\n",
        "    dummies = pd.get_dummies(df_original[[columna]])\n",
        "    res = pd.concat([df_original, dummies], axis=1)\n",
        "    res = res.drop([columna], axis=1)\n",
        "    return(res)"
      ],
      "execution_count": 99,
      "outputs": []
    },
    {
      "cell_type": "markdown",
      "metadata": {
        "id": "IhDqRsWwKRVJ"
      },
      "source": [
        "####countEncoding"
      ]
    },
    {
      "cell_type": "code",
      "metadata": {
        "id": "4JrvA1ayKUT5"
      },
      "source": [
        "# train.groupby(['ProductCD'])['isFraud'].count()"
      ],
      "execution_count": 100,
      "outputs": []
    },
    {
      "cell_type": "markdown",
      "metadata": {
        "id": "SmVTRabTKch4"
      },
      "source": [
        "https://towardsdatascience.com/guide-to-encoding-categorical-features-using-scikit-learn-for-machine-learning-5048997a5c79\n",
        "\n",
        "\n",
        "https://pbpython.com/categorical-encoding.html"
      ]
    },
    {
      "cell_type": "markdown",
      "source": [
        "##Extra para leer"
      ],
      "metadata": {
        "id": "Mbl_IU20ieV_"
      }
    },
    {
      "cell_type": "markdown",
      "source": [
        ""
      ],
      "metadata": {
        "id": "N9aj5y58ihQj"
      }
    }
  ]
}